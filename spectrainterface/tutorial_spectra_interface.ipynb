{
 "cells": [
  {
   "cell_type": "code",
   "execution_count": 1,
   "metadata": {},
   "outputs": [],
   "source": [
    "from spectrainterface.tools import SourceFunctions\n",
    "from spectrainterface.interface import SpectraInterface\n",
<<<<<<< HEAD
    "from spectrainterface.sources import CPMU_PrFeB_HEPS\n",
=======
    "from spectrainterface.sources import Halbach\n",
>>>>>>> generalize-synchrotrons
    "import numpy as np\n",
    "import matplotlib.pyplot as plt"
   ]
  },
  {
   "cell_type": "markdown",
   "metadata": {},
   "source": [
    "### BSC calcs"
   ]
  },
  {
   "cell_type": "code",
   "execution_count": null,
   "metadata": {},
   "outputs": [],
   "source": [
    "s = np.linspace(0, 2, 501)\n",
    "spectra = SpectraInterface()\n",
    "bsch_low_ivu, bscv_low_ivu = spectra.accelerator.calc_beam_stay_clear(s)\n",
    "\n",
    "spectra.accelerator.set_bsc_orion_reduction()\n",
    "bsch_low_orion, bscv_low_orion = spectra.accelerator.calc_beam_stay_clear(s)\n",
    "\n",
    "spectra.accelerator.set_current_bsc()\n",
    "spectra.accelerator.set_extraction_point('high_beta')\n",
    "bsch_high_ivu, bscv_high_ivu = spectra.accelerator.calc_beam_stay_clear(s)\n",
    "spectra.accelerator.set_bsc_orion_reduction()\n",
    "bsch_high_orion, bscv_high_orion = spectra.accelerator.calc_beam_stay_clear(s)\n",
    "\n",
    "plt.figure()\n",
    "plt.plot(s, bscv_low_ivu, '--', color='r', label='low beta - BSC IVU18')\n",
    "plt.plot(s, bscv_high_ivu, color='r', label='high beta - BSC IVU18')\n",
    "plt.plot(s, bscv_low_orion, '--', color='C1', label='low beta - BSC orion')\n",
    "plt.plot(s, bscv_high_orion, color='C1', label='high beta - BSC orion')\n",
    "plt.legend()\n",
    "plt.figure()\n",
    "plt.plot(s, bsch_low_ivu, '--', color='b', label='low beta - BSC IVU18')\n",
    "plt.plot(s, bsch_high_ivu, color='b', label='high beta - BSC IVU18')\n",
    "plt.plot(s, bsch_low_orion, '--', color='C0', label='low beta - BSC orion')\n",
    "plt.plot(s, bsch_high_orion, color='C0', label='high beta - BSC orion')\n",
    "plt.legend()"
   ]
  },
  {
   "cell_type": "markdown",
   "metadata": {},
   "source": [
    "### Generate a field defined by user"
   ]
  },
  {
   "cell_type": "code",
   "execution_count": null,
   "metadata": {},
   "outputs": [],
   "source": [
    "gamma = 3e3/0.511\n",
    "\n",
    "sf = SourceFunctions()\n",
    "period = 18\n",
    "bx_peak = 0\n",
    "by_peak = 1\n",
    "\n",
    "field = sf.create_field_profile(20, period, bx_peak, by_peak, 201)\n",
    "\n",
    "kx = sf.undulator_b_to_k(bx_peak, period)\n",
    "ky = sf.undulator_b_to_k(by_peak, period)\n",
    "k = np.sqrt(kx**2 + ky**2)\n",
    "theta = 0.0\n",
    "n = np.arange(1, 10, 1)\n",
    "energy = sf.get_harmonic_energy(n, gamma, theta, period, k)\n",
    "print(energy)\n",
    "\n",
    "rz = field[:, 0]\n",
    "by = field[:, 1]\n",
    "bx = field[:, 2]\n",
    "\n",
    "plt.plot(rz, bx)\n",
    "plt.plot(rz, by)"
   ]
  },
  {
   "cell_type": "markdown",
   "metadata": {},
   "source": [
    "#### Create an object to calc flux"
   ]
  },
  {
   "cell_type": "code",
   "execution_count": 6,
   "metadata": {},
   "outputs": [],
   "source": [
    "spectra = SpectraInterface()\n",
    "\n",
    "spectra.accelerator.set_extraction_point('low_beta')\n",
    "\n",
    "#  Select source defined by user\n",
    "spectra.calc.source_type = spectra.calc.SourceType.user_defined\n",
    "spectra.calc.field = field\n"
   ]
  },
  {
   "cell_type": "markdown",
   "metadata": {},
   "source": [
    "#### Calc flux density - spectrum"
   ]
  },
  {
   "cell_type": "code",
   "execution_count": null,
   "metadata": {},
   "outputs": [],
   "source": [
    "# Calc flux density\n",
    "spectra.calc.indep_var = spectra.calc.CalcConfigs.Variable.energy\n",
    "spectra.calc.energy_range = [1, 5000]\n",
    "spectra.calc.energy_step = 1\n",
    "spectra.calc.observation_angle = [0, 0]\n",
    "\n",
    "# Set configuration\n",
    "spectra.calc.set_config()\n",
    "spectra.calc.run_calculation()\n",
    "\n",
    "plt.plot(spectra.calc.energies, spectra.calc.flux)\n",
    "plt.xlabel(spectra.calc.output_captions['units'][0])\n",
    "plt.ylabel(spectra.calc.output_captions['units'][1])"
   ]
  },
  {
   "cell_type": "markdown",
   "metadata": {},
   "source": [
    "#### Calc flux slit - spectrum"
   ]
  },
  {
   "cell_type": "code",
   "execution_count": null,
   "metadata": {},
   "outputs": [],
   "source": [
    "# Calc partial flux circular slit\n",
    "spectra.calc.indep_var = spectra.calc.CalcConfigs.Variable.energy\n",
    "spectra.calc.output_type = spectra.calc.CalcConfigs.Output.flux\n",
    "spectra.calc.slit_shape = spectra.calc.CalcConfigs.SlitShape.circular\n",
    "spectra.calc.slit_acceptance = [0.0, 0.04]\n",
    "spectra.calc.set_config()\n",
    "spectra.calc.run_calculation()\n",
    "\n",
    "plt.plot(spectra.calc.energies, spectra.calc.flux)\n",
    "plt.xlabel(spectra.calc.output_captions['units'][0])\n",
    "plt.ylabel(spectra.calc.output_captions['units'][1])\n"
   ]
  },
  {
   "cell_type": "code",
   "execution_count": null,
   "metadata": {},
   "outputs": [],
   "source": [
    "# Comparing flux for two different slits\n",
    "spectra.calc.indep_var = spectra.calc.CalcConfigs.Variable.energy\n",
    "spectra.calc.output_type = spectra.calc.CalcConfigs.Output.flux\n",
    "spectra.calc.slit_shape = spectra.calc.CalcConfigs.SlitShape.circular\n",
    "\n",
    "spectra.calc.slit_acceptance = [0.0, 0.04]\n",
    "spectra.calc.set_config()\n",
    "spectra.calc.run_calculation()\n",
    "energies = spectra.calc.energies\n",
    "flux0 = spectra.calc.flux\n",
    "\n",
    "spectra.calc.slit_acceptance = [0.0, 0.02]\n",
    "spectra.calc.set_config()\n",
    "spectra.calc.run_calculation()\n",
    "flux1 = spectra.calc.flux\n",
    "\n",
    "plt.plot(energies, flux0, label='40 urad')\n",
    "plt.plot(energies, flux1, label='20 urad')\n",
    "plt.xlabel(spectra.calc.output_captions['units'][0])\n",
    "plt.ylabel(spectra.calc.output_captions['units'][1])\n",
    "plt.legend()\n",
    "plt.grid()"
   ]
  },
  {
   "cell_type": "markdown",
   "metadata": {},
   "source": [
    "#### Calc spatial distribution of flux"
   ]
  },
  {
   "cell_type": "code",
   "execution_count": 10,
   "metadata": {},
   "outputs": [],
   "source": [
    "spectra.calc.indep_var = spectra.calc.CalcConfigs.Variable.mesh_xy\n",
    "spectra.calc.output_type = spectra.calc.CalcConfigs.Output.flux_density\n",
    "spectra.accelerator.zero_emittance = True\n",
    "spectra.accelerator.zero_energy_spread = True\n",
    "spectra.calc.target_energy = 5850\n",
    "spectra.calc.x_range = [-0.05, 0.05]\n",
    "spectra.calc.y_range = [-0.05, 0.05]\n",
    "spectra.calc.x_nr_pts = 51\n",
    "spectra.calc.y_nr_pts = 51\n",
    "spectra.calc.set_config()\n",
    "spectra.calc.run_calculation()\n"
   ]
  },
  {
   "cell_type": "code",
   "execution_count": null,
   "metadata": {},
   "outputs": [],
   "source": [
    "# Example of detuned beam\n",
    "x = spectra.calc.x\n",
    "y = spectra.calc.y\n",
    "\n",
    "flux = spectra.calc.flux\n",
    "plt.imshow(flux, extent=[x[0], x[-1], y[0], y[-1]])"
   ]
  },
  {
   "cell_type": "code",
   "execution_count": null,
   "metadata": {},
   "outputs": [],
   "source": [
    "# Example of ressonant beam\n",
    "spectra.calc.target_energy = 5904\n",
    "spectra.calc.set_config()\n",
    "spectra.calc.run_calculation()\n",
    "flux2 = spectra.calc.flux\n",
    "plt.imshow(flux2, extent=[x[0], x[-1], y[0], y[-1]])"
   ]
  },
  {
   "cell_type": "code",
   "execution_count": null,
   "metadata": {},
   "outputs": [],
   "source": [
    "# Obtaining spectrum using spatial flux distribution\n",
    "spectra.calc.indep_var = spectra.calc.CalcConfigs.Variable.mesh_xy\n",
    "spectra.calc.output_type = spectra.calc.CalcConfigs.Output.flux_density\n",
    "spectra.calc.x_range = [-0.02, 0.02]\n",
    "spectra.calc.y_range = [-0.02, 0.02]\n",
    "spectra.accelerator.zero_emittance = True\n",
    "spectra.accelerator.zero_energy_spread = True\n",
    "energies = np.linspace(5700, 6000, 20)\n",
    "flux = np.zeros(len(energies))\n",
    "for i, energy in enumerate(energies):\n",
    "    print(energy)\n",
    "    spectra.calc.target_energy = energy\n",
    "    spectra.calc.set_config()\n",
    "    spectra.calc.run_calculation()\n",
    "    x = spectra.calc.x\n",
    "    y = spectra.calc.y\n",
    "    flux_density = spectra.calc.flux\n",
    "    flux_density = np.reshape(flux_density, (len(x), len(y)))\n",
    "    flux[i] = np.sum(flux_density)\n"
   ]
  },
  {
   "cell_type": "code",
   "execution_count": null,
   "metadata": {},
   "outputs": [],
   "source": [
    "plt.plot(energies, flux)\n",
    "plt.ylabel(\"Flux\")\n",
    "plt.xlabel(\"Energy [eV]\")"
   ]
  },
  {
   "cell_type": "markdown",
   "metadata": {},
   "source": [
    "### Calc flux of a pre configured undulator"
   ]
  },
  {
   "cell_type": "code",
   "execution_count": 16,
   "metadata": {},
   "outputs": [],
   "source": [
    "period = 18\n",
    "by_peak = 1\n",
    "bx_peak = 1\n",
    "id_length = 2\n",
    "gamma = 3e3/0.511\n",
    "\n",
    "spectra = SpectraInterface()\n",
    "\n",
    "spectra.accelerator.set_extraction_point('low_beta')\n",
    "\n",
    "#  Select horizontal undulator as source\n",
    "spectra.calc.source_type = (\n",
    "    spectra.calc.SourceType.horizontal_undulator\n",
    ")\n",
    "\n",
    "spectra.calc.period = period\n",
    "spectra.calc.by_peak = by_peak\n",
    "# spectra.calc.bx_peak = bx_peak\n",
    "spectra.calc.length = id_length"
   ]
  },
  {
   "cell_type": "code",
   "execution_count": null,
   "metadata": {},
   "outputs": [],
   "source": [
    "sf = SourceFunctions()\n",
    "ky = spectra.calc.ky\n",
    "kx = spectra.calc.kx\n",
    "kx = 0\n",
    "k = np.sqrt(kx**2 + ky**2)\n",
    "n = np.arange(1, 10, 1)\n",
    "energy = sf.get_harmonic_energy(n, gamma, 0, period, k)\n",
    "print(energy)\n"
   ]
  },
  {
   "cell_type": "markdown",
   "metadata": {},
   "source": [
    "#### Flux density"
   ]
  },
  {
   "cell_type": "code",
   "execution_count": null,
   "metadata": {},
   "outputs": [],
   "source": [
    "spectra.calc.method = spectra.calc.CalcConfigs.Method.far_field\n",
    "spectra.calc.indep_var = spectra.calc.CalcConfigs.Variable.energy\n",
    "spectra.calc.output_type = (\n",
    "    spectra.calc.CalcConfigs.Output.flux_density\n",
    ")\n",
    "spectra.calc.distance_from_source = 1\n",
    "spectra.accelerator.zero_emittance = True\n",
    "spectra.accelerator.zero_energy_spread = True\n",
    "spectra.calc.observation_angle = [0, 0]\n",
    "spectra.calc.energy_range = [1, 15000]\n",
    "spectra.calc.energy_step = 1\n",
    "spectra.calc.set_config()\n",
    "spectra.calc.run_calculation()\n",
    "\n",
    "plt.plot(\n",
    "    spectra.calc.energies,\n",
    "    spectra.calc.flux,\n",
    ")\n",
    "plt.xlabel(spectra.calc.output_captions[\"units\"][0])\n",
    "plt.ylabel(spectra.calc.output_captions[\"units\"][1])\n",
    "plt.grid()"
   ]
  },
  {
   "cell_type": "code",
   "execution_count": null,
   "metadata": {},
   "outputs": [],
   "source": [
    "spectra.calc.indep_var = spectra.calc.CalcConfigs.Variable.energy\n",
    "spectra.calc.output_type = (\n",
    "    spectra.calc.CalcConfigs.Output.flux\n",
    ")\n",
    "spectra.calc.distance_from_source = 1\n",
    "spectra.calc.slit_shape = spectra.calc.CalcConfigs.SlitShape.rectangular\n",
    "spectra.accelerator.zero_emittance = True\n",
    "spectra.accelerator.zero_energy_spread = True\n",
    "spectra.calc.method = spectra.calc.CalcConfigs.Method.far_field\n",
    "spectra.calc.observation_angle = [0, 0]\n",
    "spectra.calc.slit_acceptance = [-0.04, 0.04]\n",
    "spectra.calc.energy_range = [1, 15000]\n",
    "spectra.calc.energy_step = 1\n",
    "spectra.calc.set_config()\n",
    "spectra.calc.run_calculation()\n",
    "flux0 = spectra.calc.flux\n",
    "\n",
    "spectra.calc.slit_acceptance = [-0.02, 0.02]\n",
    "spectra.calc.set_config()\n",
    "spectra.calc.run_calculation()\n",
    "flux1 = spectra.calc.flux\n",
    "\n",
    "\n",
    "plt.plot(spectra.calc.energies, flux0, label='40 urad')\n",
    "plt.plot(spectra.calc.energies, flux1, label='20 urad')\n",
    "plt.xlabel(spectra.calc.output_captions['units'][0])\n",
    "plt.ylabel(spectra.calc.output_captions['units'][1])\n",
    "plt.legend()\n",
    "plt.grid()"
   ]
  },
  {
   "cell_type": "code",
   "execution_count": 20,
   "metadata": {},
   "outputs": [],
   "source": [
    "spectra.calc.method = spectra.calc.CalcConfigs.Method.far_field\n",
    "spectra.calc.indep_var = spectra.calc.CalcConfigs.Variable.mesh_xy\n",
    "spectra.calc.output_type = (\n",
    "    spectra.calc.CalcConfigs.Output.flux_density\n",
    ")\n",
    "spectra.calc.distance_from_source = 1\n",
    "spectra.accelerator.zero_emittance = True\n",
    "spectra.accelerator.zero_energy_spread = True\n",
    "spectra.calc.target_energy = 1968.22991164\n",
    "spectra.calc.x_range = [-0.02, 0.02]\n",
    "spectra.calc.y_range = [-0.02, 0.02]\n",
    "spectra.calc.x_nr_pts = 201\n",
    "spectra.calc.y_nr_pts = 201\n",
    "spectra.calc.set_config()\n",
    "spectra.calc.run_calculation()"
   ]
  },
  {
   "cell_type": "code",
   "execution_count": null,
   "metadata": {},
   "outputs": [],
   "source": [
    "x = spectra.calc.x\n",
    "y = spectra.calc.y\n",
    "\n",
    "flux = spectra.calc.flux\n",
    "plt.imshow(flux, extent=[x[0], x[-1], y[0], y[-1]])"
   ]
  },
  {
   "cell_type": "markdown",
   "metadata": {},
   "source": [
    "#### Power density"
   ]
  },
  {
   "cell_type": "code",
   "execution_count": 22,
   "metadata": {},
   "outputs": [],
   "source": [
    "spectra.calc.method = spectra.calc.CalcConfigs.Method.near_field\n",
    "spectra.calc.indep_var = spectra.calc.CalcConfigs.Variable.mesh_xy\n",
    "spectra.calc.output_type = (\n",
    "    spectra.calc.CalcConfigs.Output.power_density\n",
    ")\n",
    "spectra.calc.distance_from_source = 50\n",
    "spectra.accelerator.zero_emittance = True\n",
    "spectra.accelerator.zero_energy_spread = True\n",
    "spectra.calc.x_range = [-1.0, 1.0]\n",
    "spectra.calc.y_range = [-1.0, 1.0]\n",
    "spectra.calc.x_nr_pts = 201\n",
    "spectra.calc.y_nr_pts = 201\n",
    "spectra.calc.set_config()\n",
    "spectra.calc.run_calculation()"
   ]
  },
  {
   "cell_type": "code",
   "execution_count": null,
   "metadata": {},
   "outputs": [],
   "source": [
    "x = spectra.calc.x\n",
    "y = spectra.calc.y\n",
    "\n",
    "power = spectra.calc.power_density\n",
    "plt.imshow(power, extent=[x[0], x[-1], y[0], y[-1]])"
   ]
  },
  {
   "cell_type": "markdown",
   "metadata": {},
   "source": [
    "### Calc brilliance  undulator"
   ]
  },
  {
   "cell_type": "code",
   "execution_count": 24,
   "metadata": {},
   "outputs": [],
   "source": [
    "period = 20\n",
    "by_peak = 0.25\n",
    "id_length = 0.4\n",
    "gamma = 3e3/0.511\n",
    "\n",
    "spectra = SpectraInterface()\n",
    "\n",
    "spectra.accelerator.set_extraction_point('low_beta')\n",
    "\n",
    "#  Select horizontal undulator as source\n",
    "spectra.calc.source_type = (\n",
    "    spectra.calc.SourceType.horizontal_undulator\n",
    ")\n",
    "\n",
    "spectra.calc.period = period\n",
    "spectra.calc.by_peak = by_peak\n",
    "spectra.calc.length = id_length"
   ]
  },
  {
   "cell_type": "code",
   "execution_count": 25,
   "metadata": {},
   "outputs": [],
   "source": [
    "spectra.calc.output_type = spectra.calc.CalcConfigs.Output.brilliance\n",
    "spectra.calc.indep_var = spectra.calc.CalcConfigs.Variable.k\n",
    "spectra.calc.method = spectra.calc.CalcConfigs.Method.wigner\n",
    "spectra.calc.harmonic_range = [1, 5]\n",
    "spectra.calc.k_range = [0, 3]\n",
    "spectra.calc.k_nr_pts = 21\n",
    "spectra.calc.slice_x = 0\n",
    "spectra.calc.slice_px = 0\n",
    "spectra.calc.slice_y = 0\n",
    "spectra.calc.slice_py = 0"
   ]
  },
  {
   "cell_type": "code",
   "execution_count": 26,
   "metadata": {},
   "outputs": [],
   "source": [
    "spectra.calc.set_config()\n",
    "spectra.calc.run_calculation()"
   ]
  },
  {
   "cell_type": "code",
   "execution_count": null,
   "metadata": {},
   "outputs": [],
   "source": [
    "energies, brilliance = spectra.calc.process_brilliance_curve(\n",
    "    spectra.calc.energies, spectra.calc.brilliance\n",
    ")"
   ]
  },
  {
   "cell_type": "code",
   "execution_count": 28,
   "metadata": {},
   "outputs": [],
   "source": [
    "\n",
    "e1, b1 = energies[0, :], brilliance[0, :]\n",
    "e3, b3 = energies[1, :], brilliance[1, :]\n",
    "e5, b5 = energies[2, :], brilliance[2, :]\n"
   ]
  },
  {
   "cell_type": "code",
   "execution_count": null,
   "metadata": {},
   "outputs": [],
   "source": [
    "plt.plot(e1, b1, color='C0')\n",
    "plt.plot(e3, b3, color='C1')\n",
    "plt.plot(e5, b5, color='C2')"
   ]
  },
  {
   "cell_type": "markdown",
   "metadata": {},
   "source": [
    "### Calc brilliance BM"
   ]
  },
  {
   "cell_type": "code",
   "execution_count": 4,
   "metadata": {},
   "outputs": [
    {
     "name": "stdout",
     "output_type": "stream",
     "text": [
      "Calculation Status: "
     ]
    }
   ],
   "source": [
    "period = 18\n",
    "by_peak = 0.25\n",
    "length = 1\n",
    "gamma = 3e3/0.511\n",
    "\n",
    "spectra = SpectraInterface()\n",
    "spectra.accelerator.set_extraction_point('low_beta')\n",
    "\n",
    "spectra.calc.source_type = spectra.calc.SourceType.bending_magnet\n",
    "spectra.calc.method = spectra.calc.CalcConfigs.Method.far_field\n",
    "spectra.calc.indep_var = spectra.calc.CalcConfigs.Variable.energy\n",
    "spectra.calc.output_type = (\n",
    "    spectra.calc.CalcConfigs.Output.flux_density\n",
    ")\n",
    "spectra.calc.slit_acceptance = 0.2\n",
    "spectra.calc.by_peak = by_peak\n",
    "spectra.calc.length = length\n",
    "spectra.calc.distance_from_source = 20\n",
    "spectra.accelerator.zero_emittance = False\n",
    "spectra.accelerator.zero_energy_spread = False\n",
    "spectra.calc.observation_angle = [0, 0]\n",
    "spectra.calc.energy_range = [1, 50000]\n",
    "spectra.calc.energy_step = 20\n",
    "spectra.calc.set_config()\n",
    "spectra.calc.run_calculation()"
   ]
  },
  {
   "cell_type": "code",
   "execution_count": 2,
   "metadata": {},
   "outputs": [
    {
     "name": "stdout",
     "output_type": "stream",
     "text": [
      "Calculation Status: "
     ]
    }
   ],
   "source": [
    "period = 18\n",
    "by_peak = 0.25\n",
    "length = 1\n",
    "gamma = 3e3/0.511\n",
    "\n",
    "spectra = SpectraInterface()\n",
    "spectra.accelerator.set_extraction_point('low_beta')\n",
    "\n",
    "spectra.calc.source_type = spectra.calc.SourceType.bending_magnet\n",
    "spectra.calc.method = spectra.calc.CalcConfigs.Method.near_field\n",
    "spectra.calc.indep_var = spectra.calc.CalcConfigs.Variable.mesh_xy\n",
    "spectra.calc.output_type = (\n",
    "    spectra.calc.CalcConfigs.Output.flux_density\n",
    ")\n",
    "spectra.calc.by_peak = by_peak\n",
    "spectra.calc.length = length\n",
    "spectra.calc.distance_from_source = 50\n",
    "spectra.accelerator.zero_emittance = True\n",
    "spectra.accelerator.zero_energy_spread = True\n",
    "spectra.calc.x_range = [-0.1, 0.1]\n",
    "spectra.calc.y_range = [-0.1, 0.1]\n",
    "spectra.calc.x_nr_pts = 101\n",
    "spectra.calc.y_nr_pts = 101\n",
    "spectra.calc.target_energy = 14525\n",
    "spectra.calc.set_config()\n",
    "spectra.calc.run_calculation()"
   ]
  },
  {
   "cell_type": "code",
   "execution_count": 4,
   "metadata": {},
   "outputs": [
    {
     "data": {
      "text/plain": [
       "<matplotlib.image.AxesImage at 0x7f05a67e1b80>"
      ]
     },
     "execution_count": 4,
     "metadata": {},
     "output_type": "execute_result"
    },
    {
     "data": {
      "image/png": "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",
      "text/plain": [
       "<Figure size 640x480 with 1 Axes>"
      ]
     },
     "metadata": {},
     "output_type": "display_data"
    }
   ],
   "source": [
    "x = spectra.calc.x\n",
    "y = spectra.calc.y\n",
    "\n",
    "flux = spectra.calc.flux\n",
    "plt.imshow(flux, extent=[x[0], x[-1], y[0], y[-1]])"
   ]
  },
  {
   "cell_type": "code",
   "execution_count": 5,
   "metadata": {},
   "outputs": [
    {
     "data": {
      "image/png": "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",
      "text/plain": [
       "<Figure size 640x480 with 1 Axes>"
      ]
     },
     "metadata": {},
     "output_type": "display_data"
    }
   ],
   "source": [
    "plt.yscale('log')\n",
    "plt.xscale('log')\n",
    "plt.plot(\n",
    "    spectra.calc.energies,\n",
    "    spectra.calc.brilliance,\n",
    ")\n",
    "plt.xlabel(spectra.calc.output_captions[\"units\"][0])\n",
    "plt.ylabel(spectra.calc.output_captions[\"units\"][1])\n",
    "plt.grid()"
   ]
  },
  {
   "cell_type": "markdown",
   "metadata": {},
   "source": [
    "### Calc brilliance wiggler"
   ]
  },
  {
   "cell_type": "code",
   "execution_count": 8,
   "metadata": {},
   "outputs": [],
   "source": [
    "period = 180\n",
    "by_peak = 0.25\n",
    "length = 1\n",
    "gamma = 3e3/0.511\n",
    "\n",
    "spectra = SpectraInterface()\n",
    "spectra.accelerator.set_extraction_point('low_beta')\n",
    "\n",
    "spectra.calc.source_type = spectra.calc.SourceType.wiggler\n",
    "spectra.calc.method = spectra.calc.CalcConfigs.Method.far_field\n",
    "spectra.calc.indep_var = spectra.calc.CalcConfigs.Variable.energy\n",
    "spectra.calc.output_type = (\n",
    "    spectra.calc.CalcConfigs.Output.flux_density\n",
    ")\n",
    "spectra.calc.period = period\n",
    "spectra.calc.by_peak = by_peak\n",
    "spectra.calc.length = length\n",
    "spectra.calc.distance_from_source = 20\n",
    "spectra.accelerator.zero_emittance = False\n",
    "spectra.accelerator.zero_energy_spread = False\n",
    "spectra.calc.observation_angle = [0, 0]\n",
    "spectra.calc.energy_range = [1, 50000]\n",
    "spectra.calc.energy_step = 20\n",
    "spectra.calc.set_config()\n",
    "spectra.calc.run_calculation()"
   ]
  },
  {
   "cell_type": "code",
   "execution_count": null,
   "metadata": {},
   "outputs": [],
   "source": [
    "plt.yscale('log')\n",
    "plt.xscale('log')\n",
    "plt.plot(\n",
    "    spectra.calc.energies,\n",
    "    spectra.calc.brilliance,\n",
    ")\n",
    "plt.xlabel(spectra.calc.output_captions[\"units\"][0])\n",
    "plt.ylabel(spectra.calc.output_captions[\"units\"][1])\n",
    "plt.grid()"
   ]
  },
  {
   "cell_type": "code",
   "execution_count": 10,
   "metadata": {},
   "outputs": [],
   "source": [
    "period = 180\n",
    "by_peak = 0.25\n",
    "length = 1\n",
    "gamma = 3e3/0.511\n",
    "\n",
    "spectra = SpectraInterface()\n",
    "spectra.accelerator.set_extraction_point('low_beta')\n",
    "\n",
    "spectra.calc.source_type = spectra.calc.SourceType.wiggler\n",
    "spectra.calc.method = spectra.calc.CalcConfigs.Method.far_field\n",
    "spectra.calc.indep_var = spectra.calc.CalcConfigs.Variable.mesh_xy\n",
    "spectra.calc.output_type = (\n",
    "    spectra.calc.CalcConfigs.Output.flux_density\n",
    ")\n",
    "spectra.calc.period = period\n",
    "spectra.calc.by_peak = by_peak\n",
    "spectra.calc.length = length\n",
    "spectra.calc.distance_from_source = 20\n",
    "spectra.accelerator.zero_emittance = True\n",
    "spectra.accelerator.zero_energy_spread = True\n",
    "# spectra.calc.observation_angle = [0, 0]\n",
    "# spectra.calc.energy_range = [1, 50000]\n",
    "# spectra.calc.energy_step = 20\n",
    "spectra.calc.x_range = [-0.1, 0.1]\n",
    "spectra.calc.y_range = [-0.1, 0.1]\n",
    "spectra.calc.x_nr_pts = 201\n",
    "spectra.calc.y_nr_pts = 201\n",
    "spectra.calc.target_energy = 1000\n",
    "spectra.calc.set_config()\n",
    "spectra.calc.run_calculation()"
   ]
  },
  {
   "cell_type": "code",
   "execution_count": null,
   "metadata": {},
   "outputs": [],
   "source": [
    "x = spectra.calc.x\n",
    "y = spectra.calc.y\n",
    "\n",
    "power = spectra.calc.flux\n",
    "plt.imshow(power, extent=[x[0], x[-1], y[0], y[-1]])"
   ]
  },
  {
   "cell_type": "markdown",
   "metadata": {},
   "source": [
    "### Loops"
   ]
  },
  {
   "cell_type": "code",
   "execution_count": 6,
   "metadata": {},
   "outputs": [
    {
     "name": "stdout",
     "output_type": "stream",
     "text": [
      "Calculation Status: Calculation Status: Calculation Status: Calculation Status: "
     ]
    }
   ],
   "source": [
    "from spectrainterface.sources import Halbach, DELTA, Hybrid_Nd, Wiggler\n",
    "from spectrainterface.sirius import SIRIUS\n",
    "from spectrainterface.esrf import ESRF\n",
    "B2 = SIRIUS.Sources.B2\n",
    "BC = SIRIUS.Sources.BC\n",
    "\n",
    "planar = Halbach(25, 1.2)\n",
    "delta = DELTA(40, 1.0)\n",
    "hybrid = Hybrid_Nd(18, 1.5)\n",
    "wig = Wiggler(180, 1)\n",
    "b2 = B2()\n",
    "bc = BC()\n",
    "\n",
    "spectra = SpectraInterface()\n",
    "# spectra.accelerator = SIRIUS.StorageRing()\n",
    "# spectra.accelerator.set_current_bsc()\n",
    "# spectra.accelerator.set_extraction_point('low_beta')\n",
    "\n",
    "sirius = SIRIUS.StorageRing()\n",
    "esrf = ESRF.StorageRing()\n",
    "\n",
    "spectra.accelerator = list()\n",
    "spectra.accelerator.append(sirius)\n",
    "spectra.accelerator.append(sirius)\n",
    "spectra.accelerator.append(sirius)\n",
    "\n",
    "spectra.accelerator.append(esrf)\n",
    "spectra.accelerator.append(esrf)\n",
    "\n",
    "\n",
    "\n",
    "spectra.sources = [planar, delta, b2, planar, delta]\n",
    "extraction_points = ['low_beta', 'low_beta', 'b2', 'even_id', 'odd_id']\n",
    "\n",
    "spectra.calc_brilliance_curve([1, 15], 13, emax=50000, extraction_points=extraction_points)"
   ]
  },
  {
   "cell_type": "code",
   "execution_count": 7,
   "metadata": {},
   "outputs": [],
   "source": [
    "%matplotlib qt5\n",
    "spectra.plot_brilliance_curve(process_curves=True, superp_value=20)"
   ]
  },
  {
   "cell_type": "code",
   "execution_count": 4,
   "metadata": {},
   "outputs": [
    {
     "name": "stdout",
     "output_type": "stream",
     "text": [
      "Calculation Status: Calculation Status: Calculation Status: Calculation Status: "
     ]
    }
   ],
   "source": [
    "from spectrainterface.sources import Halbach, DELTA, Hybrid_Nd, Wiggler\n",
    "from spectrainterface.sirius import SIRIUS\n",
    "from spectrainterface.esrf import ESRF\n",
    "B2 = SIRIUS.Sources.B2\n",
    "BC = SIRIUS.Sources.BC\n",
    "\n",
    "planar = Halbach(25, 1.2)\n",
    "delta = DELTA(40, 1.0)\n",
    "delta.polarization = 'hp'\n",
    "delta.fields_ratio = 1\n",
    "\n",
    "\n",
    "spectra = SpectraInterface()\n",
    "# spectra.accelerator = SIRIUS.StorageRing()\n",
    "# spectra.accelerator.set_current_bsc()\n",
    "# spectra.accelerator.set_extraction_point('low_beta')\n",
    "\n",
    "sirius = SIRIUS.StorageRing()\n",
    "esrf = ESRF.StorageRing()\n",
    "\n",
    "spectra.accelerator = list()\n",
    "spectra.accelerator.append(sirius)\n",
    "spectra.accelerator.append(sirius)\n",
    "\n",
    "spectra.accelerator.append(esrf)\n",
    "spectra.accelerator.append(esrf)\n",
    "\n",
    "spectra.sources = [planar, planar, planar, delta]\n",
    "betas = [\"low_beta\", \"low_beta\", 'odd_id', 'odd_id']\n",
    "\n",
    "spectra.calc_flux_curve(\n",
    "    energy_range=[1, 20000],\n",
    "    harmonic_range=[1, 30],\n",
    "    nr_pts_k=51,\n",
    "    kmin=0.2,\n",
    "    slit_shape=\"circslit\",\n",
    "    slit_acceptances=[[0.0, 0.01], [0.0, 0.08], [0.0, 0.01], [0.0, 0.08]],\n",
    "    extraction_points=betas,\n",
    ")"
   ]
  },
  {
   "cell_type": "code",
   "execution_count": 5,
   "metadata": {},
   "outputs": [
    {
     "name": "stderr",
     "output_type": "stream",
     "text": [
      "Warning: Ignoring XDG_SESSION_TYPE=wayland on Gnome. Use QT_QPA_PLATFORM=wayland to run on Wayland anyway.\n"
     ]
    }
   ],
   "source": [
    "%matplotlib qt5\n",
    "spectra.plot_flux_curve(process_curves=True, superp_value=20)"
   ]
  },
  {
   "cell_type": "markdown",
   "metadata": {},
   "source": [
    "## PhaseSpace"
   ]
  },
  {
   "cell_type": "code",
   "execution_count": 4,
   "metadata": {},
   "outputs": [],
   "source": [
    "spectra = SpectraInterface()\n",
    "spectra.accelerator.set_bsc_orion_reduction()\n",
    "spectra.accelerator.set_high_beta_section()"
   ]
  },
  {
   "cell_type": "code",
   "execution_count": 5,
   "metadata": {},
   "outputs": [],
   "source": [
    "source = CPMU_PrFeB_HEPS(14, 2.05)\n",
    "source.vc_tolerance = 0.20\n",
    "source.polarization = \"hp\"\n",
    "source.add_phase_errors = True\n",
    "source.use_recovery_params = True"
   ]
  },
  {
   "cell_type": "code",
   "execution_count": 6,
   "metadata": {},
   "outputs": [
    {
     "name": "stdout",
     "output_type": "stream",
     "text": [
      "Period: 14.00 mm | Length: 2.05 m\n",
      "Min. gapv: 4.9328 mm\n",
      "Máx. k: 1.3865 | Máx. B: 1.06 T\n"
     ]
    }
   ],
   "source": [
    "gapv, gaph = source.calc_min_gap(spectra.accelerator)\n",
    "kmax = source.calc_max_k(spectra.accelerator)\n",
    "\n",
    "print(\n",
    "    \"Period: {:.2f} mm | Length: {:.2f} m\".format(\n",
    "        source.period, source.source_length\n",
    "    )\n",
    ")\n",
    "if source.polarization == \"cp\":\n",
    "    print(\"Min. gapv: {:.4f} mm | Min gaph: {:.3f} mm\".format(gapv, gaph))\n",
    "elif source.polarization == \"hp\":\n",
    "    print(\"Min. gapv: {:.4f} mm\".format(gapv))\n",
    "else:\n",
    "    print(\"Min. gaph: {:.3f} mm\".format(gaph))\n",
    "print(\n",
    "    \"Máx. k: {:.4f} | Máx. B: {:.2f} T\".format(\n",
    "        kmax, source.undulator_k_to_b(kmax, source.period)\n",
    "    )\n",
    ")"
   ]
  },
  {
   "cell_type": "code",
   "execution_count": 9,
   "metadata": {},
   "outputs": [],
   "source": [
    "spectra.calc.source_type = source.source_type\n",
    "spectra.calc.method = spectra.calc.CalcConfigs.Method.wigner\n",
    "spectra.calc.indep_var = spectra.calc.CalcConfigs.Variable.mesh_yyp\n",
    "spectra.calc.output_type = spectra.calc.CalcConfigs.Output.phasespace\n",
    "\n",
    "spectra.calc.period = source.period\n",
    "spectra.calc.length = source.source_length\n",
    "\n",
    "spectra.calc.ky = kmax\n",
    "spectra.calc.target_harmonic = 3\n",
    "spectra.calc.y_range = [-0.02, 0.02]\n",
    "spectra.calc.yp_range = [-0.02, 0.02]\n",
    "spectra.calc.y_nr_pts = 101\n",
    "spectra.calc.yp_nr_pts = 101\n",
    "\n",
    "spectra.calc.set_config()\n",
    "spectra.calc.run_calculation()\n",
    "\n",
    "brilliance = spectra.calc.output_data\n",
    "brilliance = brilliance.reshape(spectra.calc.yp_nr_pts, spectra.calc.y_nr_pts)"
   ]
  },
  {
   "cell_type": "code",
   "execution_count": 10,
   "metadata": {},
   "outputs": [
    {
     "data": {
      "text/plain": [
       "<function matplotlib.pyplot.show(close=None, block=None)>"
      ]
     },
     "execution_count": 10,
     "metadata": {},
     "output_type": "execute_result"
    },
    {
     "data": {
      "image/png": "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",
      "text/plain": [
       "<Figure size 450x400 with 1 Axes>"
      ]
     },
     "metadata": {},
     "output_type": "display_data"
    }
   ],
   "source": [
    "plt.figure(figsize=(4.5, 4))\n",
    "\n",
    "plt.title(\"Phase Space\")\n",
    "plt.imshow(\n",
    "    brilliance,\n",
    "    extent=[*spectra.calc.y_range, *spectra.calc.yp_range],\n",
    "    aspect=\"auto\",\n",
    ")\n",
    "plt.xlabel(\"Y (mm)\")\n",
    "plt.ylabel(\"Y' (mrad)\")\n",
    "plt.show"
   ]
  }
 ],
 "metadata": {
  "kernelspec": {
   "display_name": "optics",
   "language": "python",
   "name": "python3"
  },
  "language_info": {
   "codemirror_mode": {
    "name": "ipython",
    "version": 3
   },
   "file_extension": ".py",
   "mimetype": "text/x-python",
   "name": "python",
   "nbconvert_exporter": "python",
   "pygments_lexer": "ipython3",
   "version": "3.8.19"
  }
 },
 "nbformat": 4,
 "nbformat_minor": 2
}
