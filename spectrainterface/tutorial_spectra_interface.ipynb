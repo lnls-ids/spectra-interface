{
 "cells": [
  {
   "cell_type": "code",
   "execution_count": 1,
   "metadata": {},
   "outputs": [],
   "source": [
    "from spectrainterface.tools import SourceFunctions\n",
    "from spectrainterface.interface import SpectraInterface\n",
    "import numpy as np\n",
    "import matplotlib.pyplot as plt"
   ]
  },
  {
   "cell_type": "markdown",
   "metadata": {},
   "source": [
    "### Generate a field defined by user"
   ]
  },
  {
   "cell_type": "code",
   "execution_count": null,
   "metadata": {},
   "outputs": [],
   "source": [
    "gamma = 3e3/0.511\n",
    "\n",
    "sf = SourceFunctions()\n",
    "period = 18\n",
    "bx_peak = 0\n",
    "by_peak = 1\n",
    "\n",
    "field = sf.create_field_profile(20, period, bx_peak, by_peak, 201)\n",
    "\n",
    "kx = sf.undulator_b_to_k(bx_peak, period)\n",
    "ky = sf.undulator_b_to_k(by_peak, period)\n",
    "k = np.sqrt(kx**2 + ky**2)\n",
    "theta = 0.0\n",
    "n = np.arange(1, 10, 1)\n",
    "energy = sf.get_harmonic_energy(n, gamma, theta, period, k)\n",
    "print(energy)\n",
    "\n",
    "rz = field[:, 0]\n",
    "bx = field[:, 1]\n",
    "by = field[:, 2]\n",
    "\n",
    "plt.plot(rz, bx)\n",
    "plt.plot(rz, by)"
   ]
  },
  {
   "cell_type": "markdown",
   "metadata": {},
   "source": [
    "#### Create an object to calc flux"
   ]
  },
  {
   "cell_type": "code",
   "execution_count": null,
   "metadata": {},
   "outputs": [],
   "source": [
    "spectra = SpectraInterface()\n",
    "\n",
    "spectra.accelerator.set_low_beta_section()\n",
    "\n",
    "#  Select source defined by user\n",
    "spectra.calc.source_type = spectra.calc.SourceType.user_defined\n",
    "spectra.calc.field = field\n"
   ]
  },
  {
   "cell_type": "markdown",
   "metadata": {},
   "source": [
    "#### Calc flux density - spectrum"
   ]
  },
  {
   "cell_type": "code",
   "execution_count": null,
   "metadata": {},
   "outputs": [],
   "source": [
    "# Calc flux density\n",
    "spectra.calc.indep_var = spectra.calc.CalcConfigs.Variable.energy\n",
    "spectra.calc.energy_range = [1, 15000]\n",
    "spectra.calc.energy_step = 10\n",
    "spectra.calc.observation_angle = [0, 0]\n",
    "\n",
    "# Set configuration\n",
    "spectra.calc.set_config()\n",
    "spectra.calc.run_calculation()\n",
    "\n",
    "plt.plot(spectra.calc.energies, spectra.calc.flux)\n",
    "plt.xlabel(spectra.calc.output_captions['units'][0])\n",
    "plt.ylabel(spectra.calc.output_captions['units'][1])"
   ]
  },
  {
   "cell_type": "markdown",
   "metadata": {},
   "source": [
    "#### Calc flux slit - spectrum"
   ]
  },
  {
   "cell_type": "code",
   "execution_count": null,
   "metadata": {},
   "outputs": [],
   "source": [
    "# Calc partial flux circular slit\n",
    "spectra.calc.indep_var = spectra.calc.CalcConfigs.Variable.energy\n",
    "spectra.calc.output_type = spectra.calc.CalcConfigs.Output.flux\n",
    "spectra.calc.slit_shape = spectra.calc.CalcConfigs.SlitShape.circular\n",
    "spectra.calc.slit_acceptance = [0.0, 0.04]\n",
    "spectra.calc.set_config()\n",
    "spectra.calc.run_calculation()\n",
    "\n",
    "plt.plot(spectra.calc.energies, spectra.calc.flux)\n",
    "plt.xlabel(spectra.calc.output_captions['units'][0])\n",
    "plt.ylabel(spectra.calc.output_captions['units'][1])\n"
   ]
  },
  {
   "cell_type": "code",
   "execution_count": null,
   "metadata": {},
   "outputs": [],
   "source": [
    "# Comparing flux for two different slits\n",
    "spectra.calc.indep_var = spectra.calc.CalcConfigs.Variable.energy\n",
    "spectra.calc.output_type = spectra.calc.CalcConfigs.Output.flux\n",
    "spectra.calc.slit_shape = spectra.calc.CalcConfigs.SlitShape.circular\n",
    "\n",
    "spectra.calc.slit_acceptance = [0.0, 0.04]\n",
    "spectra.calc.set_config()\n",
    "spectra.calc.run_calculation()\n",
    "energies = spectra.calc.energies\n",
    "flux0 = spectra.calc.flux\n",
    "\n",
    "spectra.calc.slit_acceptance = [0.0, 0.02]\n",
    "spectra.calc.set_config()\n",
    "spectra.calc.run_calculation()\n",
    "flux1 = spectra.calc.flux\n",
    "\n",
    "plt.plot(energies, flux0, label='40 urad')\n",
    "plt.plot(energies, flux1, label='20 urad')\n",
    "plt.xlabel(spectra.calc.output_captions['units'][0])\n",
    "plt.ylabel(spectra.calc.output_captions['units'][1])\n",
    "plt.legend()\n",
    "plt.grid()"
   ]
  },
  {
   "cell_type": "markdown",
   "metadata": {},
   "source": [
    "#### Calc spatial distribution of flux"
   ]
  },
  {
   "cell_type": "code",
   "execution_count": null,
   "metadata": {},
   "outputs": [],
   "source": [
    "spectra.calc.indep_var = spectra.calc.CalcConfigs.Variable.mesh_xy\n",
    "spectra.calc.output_type = spectra.calc.CalcConfigs.Output.flux_density\n",
    "spectra.accelerator.zero_emittance = True\n",
    "spectra.accelerator.zero_energy_spread = True\n",
    "spectra.calc.target_energy = 5850\n",
    "spectra.calc.x_range = [-0.05, 0.05]\n",
    "spectra.calc.y_range = [-0.05, 0.05]\n",
    "spectra.calc.x_nr_pts = 51\n",
    "spectra.calc.y_nr_pts = 51\n",
    "spectra.calc.set_config()\n",
    "spectra.calc.run_calculation()\n"
   ]
  },
  {
   "cell_type": "code",
   "execution_count": null,
   "metadata": {},
   "outputs": [],
   "source": [
    "# Example of detuned beam\n",
    "x = spectra.calc.x\n",
    "y = spectra.calc.y\n",
    "\n",
    "flux = spectra.calc.flux\n",
    "plt.imshow(flux, extent=[x[0], x[-1], y[0], y[-1]])"
   ]
  },
  {
   "cell_type": "code",
   "execution_count": null,
   "metadata": {},
   "outputs": [],
   "source": [
    "# Example of ressonant beam\n",
    "spectra.calc.target_energy = 5904\n",
    "spectra.calc.set_config()\n",
    "spectra.calc.run_calculation()\n",
    "flux2 = spectra.calc.flux\n",
    "plt.imshow(flux2, extent=[x[0], x[-1], y[0], y[-1]])"
   ]
  },
  {
   "cell_type": "code",
   "execution_count": null,
   "metadata": {},
   "outputs": [],
   "source": [
    "# Obtaining spectrum using spatial flux distribution\n",
    "spectra.calc.indep_var = spectra.calc.CalcConfigs.Variable.mesh_xy\n",
    "spectra.calc.output_type = spectra.calc.CalcConfigs.Output.flux_density\n",
    "spectra.calc.x_range = [-0.02, 0.02]\n",
    "spectra.calc.y_range = [-0.02, 0.02]\n",
    "spectra.accelerator.zero_emittance = True\n",
    "spectra.accelerator.zero_energy_spread = True\n",
    "energies = np.linspace(5700, 6000, 20)\n",
    "flux = np.zeros(len(energies))\n",
    "for i, energy in enumerate(energies):\n",
    "    print(energy)\n",
    "    spectra.calc.target_energy = energy\n",
    "    spectra.calc.set_config()\n",
    "    spectra.calc.run_calculation()\n",
    "    x = spectra.calc.x\n",
    "    y = spectra.calc.y\n",
    "    flux_density = spectra.calc.flux\n",
    "    flux_density = np.reshape(flux_density, (len(x), len(y)))\n",
    "    flux[i] = np.sum(flux_density)\n"
   ]
  },
  {
   "cell_type": "code",
   "execution_count": null,
   "metadata": {},
   "outputs": [],
   "source": [
    "plt.plot(energies, flux)\n",
    "plt.ylabel(\"Flux\")\n",
    "plt.xlabel(\"Energy [eV]\")"
   ]
  },
  {
   "cell_type": "markdown",
   "metadata": {},
   "source": [
    "### Calc flux of a pre configured undulator"
   ]
  },
  {
   "cell_type": "code",
   "execution_count": null,
   "metadata": {},
   "outputs": [],
   "source": [
    "period = 18\n",
    "bx_peak = 0.25\n",
    "by_peak = 0.25\n",
    "id_length = 0.4\n",
    "gamma = 3e3/0.511\n",
    "\n",
    "spectra = SpectraInterface()\n",
    "\n",
    "spectra.accelerator.set_low_beta_section()\n",
    "\n",
    "#  Select horizontal undulator as source\n",
    "spectra.calc.source_type = (\n",
    "    spectra.calc.SourceType.figure8_undulator\n",
    ")\n",
    "\n",
    "spectra.calc.period = period\n",
    "spectra.calc.bx_peak = bx_peak\n",
    "spectra.calc.by_peak = by_peak\n",
    "spectra.calc.length = id_length"
   ]
  },
  {
   "cell_type": "code",
   "execution_count": null,
   "metadata": {},
   "outputs": [],
   "source": [
    "sf = SourceFunctions()\n",
    "kx = spectra.calc.kx\n",
    "ky = spectra.calc.ky\n",
    "k = np.sqrt(kx**2 + ky**2)\n",
    "n = np.arange(1, 10, 1)\n",
    "energy = sf.get_harmonic_energy(n, gamma, 0, period, k)\n",
    "print(energy)\n"
   ]
  },
  {
   "cell_type": "markdown",
   "metadata": {},
   "source": [
    "#### Flux density"
   ]
  },
  {
   "cell_type": "code",
   "execution_count": null,
   "metadata": {},
   "outputs": [],
   "source": [
    "spectra.calc.method = spectra.calc.CalcConfigs.Method.near_field\n",
    "spectra.calc.indep_var = spectra.calc.CalcConfigs.Variable.energy\n",
    "spectra.calc.output_type = (\n",
    "    spectra.calc.CalcConfigs.Output.flux_density\n",
    ")\n",
    "spectra.calc.distance_from_source = 1\n",
    "spectra.accelerator.zero_emittance = False\n",
    "spectra.accelerator.zero_energy_spread = False\n",
    "spectra.calc.observation_angle = [0, 0]\n",
    "spectra.calc.energy_range = [1, 15000]\n",
    "spectra.calc.energy_step = 1\n",
    "spectra.calc.set_config()\n",
    "spectra.calc.run_calculation()\n",
    "\n",
    "plt.plot(\n",
    "    spectra.calc.energies,\n",
    "    spectra.calc.flux,\n",
    ")\n",
    "plt.xlabel(spectra.calc.output_captions[\"units\"][0])\n",
    "plt.ylabel(spectra.calc.output_captions[\"units\"][1])\n",
    "plt.grid()"
   ]
  },
  {
   "cell_type": "code",
   "execution_count": null,
   "metadata": {},
   "outputs": [],
   "source": [
    "spectra.calc.indep_var = spectra.calc.CalcConfigs.Variable.energy\n",
    "spectra.calc.output_type = (\n",
    "    spectra.calc.CalcConfigs.Output.flux\n",
    ")\n",
    "spectra.calc.distance_from_source = 1\n",
    "spectra.calc.slit_shape = spectra.calc.CalcConfigs.SlitShape.circular\n",
    "spectra.accelerator.zero_emittance = True\n",
    "spectra.accelerator.zero_energy_spread = True\n",
    "spectra.calc.method = spectra.calc.CalcConfigs.Method.near_field\n",
    "spectra.calc.observation_angle = [0, 0]\n",
    "spectra.calc.slit_acceptance = [0, 0.04]\n",
    "spectra.calc.energy_range = [1, 15000]\n",
    "spectra.calc.energy_step = 1\n",
    "spectra.calc.set_config()\n",
    "spectra.calc.run_calculation()\n",
    "flux0 = spectra.calc.flux\n",
    "\n",
    "spectra.calc.slit_acceptance = [0, 0.02]\n",
    "spectra.calc.set_config()\n",
    "spectra.calc.run_calculation()\n",
    "flux1 = spectra.calc.flux\n",
    "\n",
    "\n",
    "plt.plot(spectra.calc.energies, flux0, label='40 urad')\n",
    "plt.plot(spectra.calc.energies, flux1, label='20 urad')\n",
    "plt.xlabel(spectra.calc.output_captions['units'][0])\n",
    "plt.ylabel(spectra.calc.output_captions['units'][1])\n",
    "plt.legend()\n",
    "plt.grid()"
   ]
  },
  {
   "cell_type": "code",
   "execution_count": null,
   "metadata": {},
   "outputs": [],
   "source": [
    "spectra.calc.indep_var = spectra.calc.CalcConfigs.Variable.mesh_xy\n",
    "spectra.calc.output_type = (\n",
    "    spectra.calc.CalcConfigs.Output.flux_density\n",
    ")\n",
    "spectra.calc.distance_from_source = 1\n",
    "spectra.accelerator.zero_emittance = True\n",
    "spectra.accelerator.zero_energy_spread = True\n",
    "spectra.calc.target_energy = 3294/2\n",
    "spectra.calc.x_range = [-0.05, 0.05]\n",
    "spectra.calc.y_range = [-0.05, 0.05]\n",
    "spectra.calc.x_nr_pts = 101\n",
    "spectra.calc.y_nr_pts = 101\n",
    "spectra.calc.set_config()\n",
    "spectra.calc.run_calculation()"
   ]
  },
  {
   "cell_type": "code",
   "execution_count": null,
   "metadata": {},
   "outputs": [],
   "source": [
    "x = spectra.calc.x\n",
    "y = spectra.calc.y\n",
    "\n",
    "flux = spectra.calc.flux\n",
    "plt.imshow(flux, extent=[x[0], x[-1], y[0], y[-1]])"
   ]
  },
  {
   "cell_type": "markdown",
   "metadata": {},
   "source": [
    "### Calc brilliance  undulator"
   ]
  },
  {
   "cell_type": "code",
   "execution_count": 2,
   "metadata": {},
   "outputs": [],
   "source": [
    "period = 20\n",
    "by_peak = 0.25\n",
    "id_length = 0.4\n",
    "gamma = 3e3/0.511\n",
    "\n",
    "spectra = SpectraInterface()\n",
    "\n",
    "spectra.accelerator.set_low_beta_section()\n",
    "\n",
    "#  Select horizontal undulator as source\n",
    "spectra.calc.source_type = (\n",
    "    spectra.calc.SourceType.horizontal_undulator\n",
    ")\n",
    "\n",
    "spectra.calc.period = period\n",
    "spectra.calc.by_peak = by_peak\n",
    "spectra.calc.length = id_length"
   ]
  },
  {
   "cell_type": "code",
   "execution_count": 8,
   "metadata": {},
   "outputs": [],
   "source": [
    "spectra.calc.output_type = spectra.calc.CalcConfigs.Output.brilliance\n",
    "spectra.calc.indep_var = spectra.calc.CalcConfigs.Variable.k\n",
    "spectra.calc.method = spectra.calc.CalcConfigs.Method.wigner\n",
    "spectra.calc.harmonic_range = [1, 5]\n",
    "spectra.calc.k_range = [0, 3]\n",
    "spectra.calc.k_nr_pts = 21\n",
    "spectra.calc.slice_x = 0\n",
    "spectra.calc.slice_px = 0\n",
    "spectra.calc.slice_y = 0\n",
    "spectra.calc.slice_py = 0"
   ]
  },
  {
   "cell_type": "code",
   "execution_count": 9,
   "metadata": {},
   "outputs": [
    {
     "name": "stdout",
     "output_type": "stream",
     "text": [
      "elapsed time: 8.6 s\n"
     ]
    }
   ],
   "source": [
    "spectra.calc.set_config()\n",
    "spectra.calc.run_calculation()"
   ]
  },
  {
   "cell_type": "code",
   "execution_count": 11,
   "metadata": {},
   "outputs": [],
   "source": [
    "spectra.calc.process_brilliance_curve()"
   ]
  },
  {
   "cell_type": "code",
   "execution_count": 14,
   "metadata": {},
   "outputs": [],
   "source": [
    "\n",
    "e1, b1 = spectra.calc.energies[0, :], spectra.calc.brilliance[0, :]\n",
    "e3, b3 = spectra.calc.energies[1, :], spectra.calc.brilliance[1, :]\n",
    "e5, b5 = spectra.calc.energies[2, :], spectra.calc.brilliance[2, :]\n"
   ]
  },
  {
   "cell_type": "code",
   "execution_count": 16,
   "metadata": {},
   "outputs": [
    {
     "data": {
      "text/plain": [
       "[<matplotlib.lines.Line2D at 0x7f952df639d0>]"
      ]
     },
     "execution_count": 16,
     "metadata": {},
     "output_type": "execute_result"
    }
   ],
   "source": [
    "plt.plot(e1, b1, color='C0')\n",
    "plt.plot(e3, b3, color='C1')\n",
    "plt.plot(e5, b5, color='C2')"
   ]
  },
  {
   "cell_type": "markdown",
   "metadata": {},
   "source": [
    "### Calc brilliance BM"
   ]
  },
  {
   "cell_type": "code",
   "execution_count": 14,
   "metadata": {},
   "outputs": [
    {
     "name": "stdout",
     "output_type": "stream",
     "text": [
      "elapsed time: 0.0 s\n"
     ]
    }
   ],
   "source": [
    "period = 18\n",
    "by_peak = 0.25\n",
    "length = 1\n",
    "gamma = 3e3/0.511\n",
    "\n",
    "spectra = SpectraInterface()\n",
    "spectra.accelerator.set_low_beta_section()\n",
    "\n",
    "spectra.calc.source_type = spectra.calc.SourceType.bending_magnet\n",
    "spectra.calc.method = spectra.calc.CalcConfigs.Method.far_field\n",
    "spectra.calc.indep_var = spectra.calc.CalcConfigs.Variable.energy\n",
    "spectra.calc.output_type = (\n",
    "    spectra.calc.CalcConfigs.Output.flux_density\n",
    ")\n",
    "spectra.calc.by_peak = by_peak\n",
    "spectra.calc.length = length\n",
    "spectra.calc.distance_from_source = 20\n",
    "spectra.accelerator.zero_emittance = False\n",
    "spectra.accelerator.zero_energy_spread = False\n",
    "spectra.calc.observation_angle = [0, 0]\n",
    "spectra.calc.energy_range = [1, 50000]\n",
    "spectra.calc.energy_step = 20\n",
    "spectra.calc.set_config()\n",
    "spectra.calc.run_calculation()"
   ]
  },
  {
   "cell_type": "code",
   "execution_count": 15,
   "metadata": {},
   "outputs": [
    {
     "data": {
      "image/png": "[encoded data removed]",
      "text/plain": [
       "<Figure size 640x480 with 1 Axes>"
      ]
     },
     "metadata": {},
     "output_type": "display_data"
    }
   ],
   "source": [
    "plt.yscale('log')\n",
    "plt.xscale('log')\n",
    "plt.plot(\n",
    "    spectra.calc.energies,\n",
    "    spectra.calc.brilliance,\n",
    ")\n",
    "plt.xlabel(spectra.calc.output_captions[\"units\"][0])\n",
    "plt.ylabel(spectra.calc.output_captions[\"units\"][1])\n",
    "plt.grid()"
   ]
  },
  {
   "cell_type": "markdown",
   "metadata": {},
   "source": [
    "### Calc brilliance wiggler"
   ]
  },
  {
   "cell_type": "code",
   "execution_count": 19,
   "metadata": {},
   "outputs": [
    {
     "name": "stdout",
     "output_type": "stream",
     "text": [
      "elapsed time: 0.2 s\n"
     ]
    }
   ],
   "source": [
    "period = 180\n",
    "by_peak = 0.25\n",
    "length = 1\n",
    "gamma = 3e3/0.511\n",
    "\n",
    "spectra = SpectraInterface()\n",
    "spectra.accelerator.set_low_beta_section()\n",
    "\n",
    "spectra.calc.source_type = spectra.calc.SourceType.wiggler\n",
    "spectra.calc.method = spectra.calc.CalcConfigs.Method.far_field\n",
    "spectra.calc.indep_var = spectra.calc.CalcConfigs.Variable.energy\n",
    "spectra.calc.output_type = (\n",
    "    spectra.calc.CalcConfigs.Output.flux_density\n",
    ")\n",
    "spectra.calc.period = period\n",
    "spectra.calc.by_peak = by_peak\n",
    "spectra.calc.length = length\n",
    "spectra.calc.distance_from_source = 20\n",
    "spectra.accelerator.zero_emittance = False\n",
    "spectra.accelerator.zero_energy_spread = False\n",
    "spectra.calc.observation_angle = [0, 0]\n",
    "spectra.calc.energy_range = [1, 50000]\n",
    "spectra.calc.energy_step = 20\n",
    "spectra.calc.set_config()\n",
    "spectra.calc.run_calculation()"
   ]
  },
  {
   "cell_type": "code",
   "execution_count": 20,
   "metadata": {},
   "outputs": [
    {
     "data": {
      "image/png": "[encoded data removed]",
      "text/plain": [
       "<Figure size 640x480 with 1 Axes>"
      ]
     },
     "metadata": {},
     "output_type": "display_data"
    }
   ],
   "source": [
    "plt.yscale('log')\n",
    "plt.xscale('log')\n",
    "plt.plot(\n",
    "    spectra.calc.energies,\n",
    "    spectra.calc.brilliance,\n",
    ")\n",
    "plt.xlabel(spectra.calc.output_captions[\"units\"][0])\n",
    "plt.ylabel(spectra.calc.output_captions[\"units\"][1])\n",
    "plt.grid()"
   ]
  },
  {
   "cell_type": "markdown",
   "metadata": {},
   "source": [
    "### Loops"
   ]
  },
  {
   "cell_type": "code",
   "execution_count": 2,
   "metadata": {},
   "outputs": [
    {
     "name": "stdout",
     "output_type": "stream",
     "text": [
      "Calculating curve for undulator 1/3\n",
      "{'Accelerator': {'Energy (GeV)': 3, 'Current (mA)': 100, '&sigma;<sub>z</sub> (mm)': 2.9, 'Nat. Emittance (m.rad)': 2.5e-10, 'Coupling Constant': 0.01, 'Energy Spread': 0.00084, '&beta;<sub>x,y</sub> (m)': [1.499, 1.435], '&alpha;<sub>x,y</sub>': [0, 0], '&eta;<sub>x,y</sub> (m)': [0, 0], \"&eta;'<sub>x,y</sub>\": [0, 0], 'Type': 'Storage Ring', 'Options': {'Injection Condition': 'Align at Entrance', 'Zero Emittance': False, 'Zero Energy Spread': False}}, 'Light Source': {'&lambda;<sub>u</sub> (mm)': 25, 'Device Length (m)': 1.2, 'K value': 2.334322389152051, 'Type': 'Linear Undulator', 'Options': {'Gap-Field Relation': 'None', 'Field Structure': 'Antisymmetric', 'End Correction Magnet': True, 'Segmentation': 'None'}}, 'Configurations': {'Harmonic Range': [1, 15], 'Detuning': 0, 'K Range': [0.2, 3.1959860097260897], 'Points (K)': 9, 'Slice X (mm)': 0, 'Slice Y (mm)': 0, \"Slice X' (mrad)\": 0, \"Slice Y' (mrad)\": 0, 'Type': 'Characterization at the Source Point::Wigner Function::K Dependence::Target Harmonics', 'Options': {'Accuracy': 'Default'}, 'Distance from the Source (m)': 10}, 'Output File': {'Format': 'JSON', 'Folder': '/home/gabriel/spectra/spectra11/tests_GUI', 'Prefix': 'power_density', 'Serial Number': 30, 'Comment': ''}}\n",
      "elapsed time: 15.4 s\n",
      "Calculating curve for undulator 2/3\n",
      "{'Accelerator': {'Energy (GeV)': 3, 'Current (mA)': 100, '&sigma;<sub>z</sub> (mm)': 2.9, 'Nat. Emittance (m.rad)': 2.5e-10, 'Coupling Constant': 0.01, 'Energy Spread': 0.00084, '&beta;<sub>x,y</sub> (m)': [1.499, 1.435], '&alpha;<sub>x,y</sub>': [0, 0], '&eta;<sub>x,y</sub> (m)': [0, 0], \"&eta;'<sub>x,y</sub>\": [0, 0], 'Type': 'Storage Ring', 'Options': {'Injection Condition': 'Align at Entrance', 'Zero Emittance': False, 'Zero Energy Spread': False}}, 'Light Source': {'&lambda;<sub>u</sub> (mm)': 18, 'Device Length (m)': 1.5, 'K value': 1.6807121201894768, 'Type': 'Linear Undulator', 'Options': {'Gap-Field Relation': 'None', 'Field Structure': 'Antisymmetric', 'End Correction Magnet': True, 'Segmentation': 'None'}}, 'Configurations': {'Harmonic Range': [1, 15], 'Detuning': 0, 'K Range': [0.2, 1.9249073652474387], 'Points (K)': 9, 'Slice X (mm)': 0, 'Slice Y (mm)': 0, \"Slice X' (mrad)\": 0, \"Slice Y' (mrad)\": 0, 'Type': 'Characterization at the Source Point::Wigner Function::K Dependence::Target Harmonics', 'Options': {'Accuracy': 'Default'}, 'Distance from the Source (m)': 10}, 'Output File': {'Format': 'JSON', 'Folder': '/home/gabriel/spectra/spectra11/tests_GUI', 'Prefix': 'power_density', 'Serial Number': 30, 'Comment': ''}}\n",
      "Calculation Status: elapsed time: 13.0 s\n",
      "Calculating curve for undulator 3/3\n",
      "{'Accelerator': {'Energy (GeV)': 3, 'Current (mA)': 100, '&sigma;<sub>z</sub> (mm)': 2.9, 'Nat. Emittance (m.rad)': 2.5e-10, 'Coupling Constant': 0.01, 'Energy Spread': 0.00084, '&beta;<sub>x,y</sub> (m)': [1.499, 1.435], '&alpha;<sub>x,y</sub>': [0, 0], '&eta;<sub>x,y</sub> (m)': [0, 0], \"&eta;'<sub>x,y</sub>\": [0, 0], 'Type': 'Storage Ring', 'Options': {'Injection Condition': 'Align at Entrance', 'Zero Emittance': False, 'Zero Energy Spread': False}}, 'Light Source': {'&lambda;<sub>u</sub> (mm)': 40, 'Device Length (m)': 1.0, 'K value': 3.7349158226432815, 'Type': 'Linear Undulator', 'Options': {'Gap-Field Relation': 'None', 'Field Structure': 'Antisymmetric', 'End Correction Magnet': True, 'Segmentation': 'None'}}, 'Configurations': {'Harmonic Range': [1, 15], 'Detuning': 0, 'K Range': [0.2, 6.748198564660932], 'Points (K)': 9, 'Slice X (mm)': 0, 'Slice Y (mm)': 0, \"Slice X' (mrad)\": 0, \"Slice Y' (mrad)\": 0, 'Type': 'Characterization at the Source Point::Wigner Function::K Dependence::Target Harmonics', 'Options': {'Accuracy': 'Default'}, 'Distance from the Source (m)': 10}, 'Output File': {'Format': 'JSON', 'Folder': '/home/gabriel/spectra/spectra11/tests_GUI', 'Prefix': 'power_density', 'Serial Number': 30, 'Comment': ''}}\n",
      "elapsed time: 24.0 s\n"
     ]
    }
   ],
   "source": [
    "from spectrainterface.sources import Planar, Delta, Hybrid\n",
    "\n",
    "planar = Planar(25, 1.2)\n",
    "delta = Delta(40, 1.0)\n",
    "hybrid = Hybrid(18, 1.5)\n",
    "\n",
    "spectra = SpectraInterface()\n",
    "spectra.accelerator.set_bsc_with_ivu18()\n",
    "spectra.accelerator.set_low_beta_section()\n",
    "\n",
    "spectra.sources = [planar, hybrid, delta]\n",
    "\n",
    "spectra.calc_brilliance_curve([1, 15], 9)"
   ]
  },
  {
   "cell_type": "code",
   "execution_count": 3,
   "metadata": {},
   "outputs": [
    {
     "name": "stderr",
     "output_type": "stream",
     "text": [
      "Warning: Ignoring XDG_SESSION_TYPE=wayland on Gnome. Use QT_QPA_PLATFORM=wayland to run on Wayland anyway.\n"
     ]
    }
   ],
   "source": [
    "%matplotlib qt5\n",
    "spectra.plot_brilliance_curve(process_curves=True, superp_value=20)"
   ]
  }
 ],
 "metadata": {
  "kernelspec": {
   "display_name": "optics",
   "language": "python",
   "name": "python3"
  },
  "language_info": {
   "codemirror_mode": {
    "name": "ipython",
    "version": 3
   },
   "file_extension": ".py",
   "mimetype": "text/x-python",
   "name": "python",
   "nbconvert_exporter": "python",
   "pygments_lexer": "ipython3",
   "version": "3.8.18"
  }
 },
 "nbformat": 4,
 "nbformat_minor": 2
}
